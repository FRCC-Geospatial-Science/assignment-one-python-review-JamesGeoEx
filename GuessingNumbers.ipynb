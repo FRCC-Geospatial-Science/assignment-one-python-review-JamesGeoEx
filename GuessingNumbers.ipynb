{
 "cells": [
  {
   "cell_type": "markdown",
   "metadata": {
    "colab_type": "text",
    "id": "view-in-github"
   },
   "source": [
    "<a href=\"https://colab.research.google.com/github/FRCC-Geospatial-Science/GIS-3011-Assignment-One-Python-Review/blob/main/GuessingNumbers.ipynb\" target=\"_parent\"><img src=\"https://colab.research.google.com/assets/colab-badge.svg\" alt=\"Open In Colab\"/></a>"
   ]
  },
  {
   "cell_type": "markdown",
   "metadata": {
    "id": "ilSmgOMDp4Ma"
   },
   "source": [
    "\n",
    "**Writing a Random Number Guessing Game**\n",
    "As a class, we will need to use the created flow chart to write a program which guesses a number between 1 and 20.\n",
    "\n",
    "\n",
    "\n",
    "1.   Have the user input a number between 1 and 20\n",
    "2.   Give the user 6 chances to guess the number\n",
    "3.   You'll need the following:\n",
    "\n",
    "*   Variables\n",
    "*   Ranges\n",
    "*   Comparison Operators\n",
    "*   Flow Control\n",
    "*   Value Types\n",
    "*   Value Type Conversions\n",
    "*   Print statements\n",
    "\n",
    "\n",
    "\n",
    "\n",
    "\n"
   ]
  },
  {
   "cell_type": "code",
   "execution_count": 1,
   "metadata": {
    "id": "om8tqmU3p5Sh"
   },
   "outputs": [
    {
     "name": "stdout",
     "output_type": "stream",
     "text": [
      "\n",
      "Let's begin the game.\n",
      "The answer is 10\n",
      "You are playing guess 1!\n"
     ]
    },
    {
     "name": "stdin",
     "output_type": "stream",
     "text": [
      "What is your guess?  10\n"
     ]
    },
    {
     "name": "stdout",
     "output_type": "stream",
     "text": [
      "You win!\n"
     ]
    },
    {
     "name": "stdin",
     "output_type": "stream",
     "text": [
      "Do you want to play again, yes or no?  no\n"
     ]
    },
    {
     "name": "stdout",
     "output_type": "stream",
     "text": [
      "Game Over\n"
     ]
    }
   ],
   "source": [
    "import random\n",
    "\n",
    "play_again = True # stay in game loop until false\n",
    "\n",
    "# Game Loop\n",
    "while play_again:\n",
    "  print(\"\\nLet's begin the game.\")\n",
    "    \n",
    "  low = 1\n",
    "  high = 20\n",
    "\n",
    "  rand = random.randint(low, high)\n",
    "  print(f'The answer is {rand}')\n",
    "\n",
    "  # The Game\n",
    "  for guess in range(6):\n",
    "    print(f'You are playing guess {guess + 1}!')\n",
    "    user_guess = int(input('What is your guess? '))\n",
    "    if user_guess == rand:\n",
    "        print('You win!')\n",
    "        break\n",
    "    else:\n",
    "        print('Guess again.')\n",
    "        \n",
    "\n",
    "  # Input Loop\n",
    "  while True:\n",
    "    answer = input('Do you want to play again, yes or no? ').lower()\n",
    "    if answer == 'yes': # play again\n",
    "      break\n",
    "    elif answer == 'no': # end game\n",
    "      play_again = False\n",
    "      break\n",
    "    else: # continue input loop until yes or no\n",
    "      print(\"Please input only yes or no!\")\n",
    "\n",
    "print('Game Over')"
   ]
  },
  {
   "cell_type": "code",
   "execution_count": null,
   "metadata": {},
   "outputs": [],
   "source": []
  }
 ],
 "metadata": {
  "colab": {
   "authorship_tag": "ABX9TyOyEl3ntg4yBC0QWDwH8461",
   "include_colab_link": true,
   "provenance": []
  },
  "kernelspec": {
   "display_name": "Python 3 (ipykernel)",
   "language": "python",
   "name": "python3"
  },
  "language_info": {
   "codemirror_mode": {
    "name": "ipython",
    "version": 3
   },
   "file_extension": ".py",
   "mimetype": "text/x-python",
   "name": "python",
   "nbconvert_exporter": "python",
   "pygments_lexer": "ipython3",
   "version": "3.10.13"
  }
 },
 "nbformat": 4,
 "nbformat_minor": 4
}
